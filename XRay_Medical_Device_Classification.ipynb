{
  "cells": [
    {
      "cell_type": "markdown",
      "metadata": {
        "id": "view-in-github",
        "colab_type": "text"
      },
      "source": [
        "<a href=\"https://colab.research.google.com/github/toberoi05/Stanford-AIMI-Summer-Internship-Code/blob/main/XRay_Medical_Device_Classification.ipynb\" target=\"_parent\"><img src=\"https://colab.research.google.com/assets/colab-badge.svg\" alt=\"Open In Colab\"/></a>"
      ]
    },
    {
      "cell_type": "code",
      "execution_count": null,
      "metadata": {
        "colab": {
          "base_uri": "https://localhost:8080/"
        },
        "id": "63SF7D6_s-Mx",
        "outputId": "fc38e3fb-f144-4e41-ddc9-e0a88d08f1fd"
      },
      "outputs": [
        {
          "output_type": "stream",
          "name": "stdout",
          "text": [
            "\u001b[K     |████████████████████████████████| 266 kB 8.4 MB/s \n",
            "\u001b[K     |████████████████████████████████| 2.0 MB 53.1 MB/s \n",
            "\u001b[K     |████████████████████████████████| 64 kB 1.7 MB/s \n",
            "\u001b[K     |████████████████████████████████| 43 kB 1.2 MB/s \n",
            "\u001b[K     |████████████████████████████████| 12.8 MB 23.5 MB/s \n",
            "\u001b[?25h  Building wheel for retrying (setup.py) ... \u001b[?25l\u001b[?25hdone\n",
            "\u001b[K     |████████████████████████████████| 35.3 MB 214 kB/s \n",
            "\u001b[31mERROR: pip's dependency resolver does not currently take into account all the packages that are installed. This behaviour is the source of the following dependency conflicts.\n",
            "dicom2nifti 2.4.2 requires pydicom>=2.2.0, but you have pydicom 1.4.2 which is incompatible.\u001b[0m\n",
            "\u001b[?25h"
          ]
        }
      ],
      "source": [
        "!pip install mdai --quiet\n",
        "!pip install pydicom==1.4.2 --force-reinstall --quiet\n",
        "\n",
        "import mdai\n",
        "from mdai.utils.common_utils import json_to_dataframe\n",
        "from mdai.visualize import draw_box_on_image, display_annotations\n",
        "from pathlib import Path\n",
        "import pandas as pd\n",
        "import numpy as np\n",
        "import sys\n",
        "import os\n",
        "import matplotlib.pyplot as plt\n",
        "\n",
        "sys.path.append('/content/drive/MyDrive')"
      ]
    },
    {
      "cell_type": "code",
      "execution_count": null,
      "metadata": {
        "colab": {
          "base_uri": "https://localhost:8080/"
        },
        "id": "WRaiZj8CtzOr",
        "outputId": "7ca36545-5442-4d4f-eca1-cf97242625de"
      },
      "outputs": [
        {
          "output_type": "stream",
          "name": "stdout",
          "text": [
            "Mounted at /content/drive\n"
          ]
        }
      ],
      "source": [
        "from google.colab import drive\n",
        "drive.mount('/content/drive')"
      ]
    },
    {
      "cell_type": "code",
      "execution_count": null,
      "metadata": {
        "colab": {
          "base_uri": "https://localhost:8080/"
        },
        "id": "E2nW2yBquOA_",
        "outputId": "5dcc2f34-12b9-4725-d119-fac16e05b475"
      },
      "outputs": [
        {
          "output_type": "stream",
          "name": "stdout",
          "text": [
            "Label Group, Id: G_WK10kY, Name: Default group\n",
            "\tLabels:\n",
            "\tId: L_R6vr06, Name: Erroneous\n",
            "\n",
            "Label Group, Id: G_8On3MY, Name: Devices (Main)\n",
            "\tLabels:\n",
            "\tId: L_5N0vP4, Name: Endotracheal Tube\n",
            "\tId: L_y4mnA1, Name: Central venous catheter\n",
            "\tId: L_A1yz9N, Name: Chest Tube\n",
            "\n",
            "Label Group, Id: G_VK3BlY, Name: Devices (Secondary)\n",
            "\tLabels:\n",
            "\tId: L_ZNAO94, Name: Pacemaker/ICD\n",
            "\n"
          ]
        }
      ],
      "source": [
        "p.show_label_groups()"
      ]
    },
    {
      "cell_type": "code",
      "execution_count": null,
      "metadata": {
        "id": "pHU_YyZPuV5i"
      },
      "outputs": [],
      "source": [
        "labels_dict = {\n",
        "    'L_5N0vP4': 1, # Endotracheal Tube\n",
        "    'L_y4mnA1': 2, # Central venous catheter\n",
        "    'L_A1yz9N': 3, # Chest Tube\n",
        "}\n",
        "p.set_labels_dict(labels_dict)"
      ]
    },
    {
      "cell_type": "code",
      "execution_count": null,
      "metadata": {
        "id": "LSvMtaAXyDqr"
      },
      "outputs": [],
      "source": [
        "from torch.utils.data import Dataset, DataLoader\n",
        "import torch\n",
        "import torchvision.transforms as transforms\n",
        "import torch.nn as nn\n",
        "\n",
        "imgIds = dataset.all_image_ids\n"
      ]
    },
    {
      "cell_type": "code",
      "execution_count": null,
      "metadata": {
        "id": "RHYk9Frvf6sf"
      },
      "outputs": [],
      "source": [
        "from sklearn.model_selection import train_test_split as tts \n",
        "\n",
        "train_ids, test_ids = tts(imgIds, test_size=300, random_state = 42)\n",
        "\n",
        "preloadedImagesTrain = []\n",
        "for id in train_ids:\n",
        "  preloadedImagesTrain.append(mdai.visualize.load_dicom_image(id, to_RGB=True, rescale=True))\n",
        "\n",
        "preloadedImagesTest = []\n",
        "for id in test_ids:\n",
        "  preloadedImagesTest.append(mdai.visualize.load_dicom_image(id, to_RGB=True, rescale=True))"
      ]
    },
    {
      "cell_type": "markdown",
      "metadata": {
        "id": "5UMbaE4wlWqZ"
      },
      "source": [
        "First, I am Predicting the Type of Instrument (1,2,3) Classification\n"
      ]
    },
    {
      "cell_type": "code",
      "execution_count": null,
      "metadata": {
        "colab": {
          "base_uri": "https://localhost:8080/"
        },
        "id": "FZAUoPAl1lVg",
        "outputId": "096a7714-c803-48f7-a9a9-509261f91b1b"
      },
      "outputs": [
        {
          "output_type": "stream",
          "name": "stdout",
          "text": [
            "tensor([0.4935, 0.4935, 0.4935]) tensor([0.2904, 0.2904, 0.2904])\n",
            "(tensor([[[-0.4063, -0.4333, -0.4603,  ..., -0.5143, -0.5278, -0.5278],\n",
            "         [-0.4198, -0.4468, -0.4603,  ..., -0.5548, -0.5548, -0.5683],\n",
            "         [-0.4198, -0.4468, -0.4738,  ..., -0.5953, -0.6088, -0.6223],\n",
            "         ...,\n",
            "         [-0.3388, -0.4063, -0.4468,  ..., -0.5683, -0.5818, -0.6088],\n",
            "         [-0.3388, -0.4063, -0.4468,  ..., -0.5278, -0.5413, -0.5548],\n",
            "         [-0.3253, -0.3928, -0.4468,  ..., -0.4873, -0.4873, -0.5008]],\n",
            "\n",
            "        [[-0.4063, -0.4333, -0.4603,  ..., -0.5143, -0.5278, -0.5278],\n",
            "         [-0.4198, -0.4468, -0.4603,  ..., -0.5548, -0.5548, -0.5683],\n",
            "         [-0.4198, -0.4468, -0.4738,  ..., -0.5953, -0.6088, -0.6223],\n",
            "         ...,\n",
            "         [-0.3388, -0.4063, -0.4468,  ..., -0.5683, -0.5818, -0.6088],\n",
            "         [-0.3388, -0.4063, -0.4468,  ..., -0.5278, -0.5413, -0.5548],\n",
            "         [-0.3253, -0.3928, -0.4468,  ..., -0.4873, -0.4873, -0.5008]],\n",
            "\n",
            "        [[-0.4063, -0.4333, -0.4603,  ..., -0.5143, -0.5278, -0.5278],\n",
            "         [-0.4198, -0.4468, -0.4603,  ..., -0.5548, -0.5548, -0.5683],\n",
            "         [-0.4198, -0.4468, -0.4738,  ..., -0.5953, -0.6088, -0.6223],\n",
            "         ...,\n",
            "         [-0.3388, -0.4063, -0.4468,  ..., -0.5683, -0.5818, -0.6088],\n",
            "         [-0.3388, -0.4063, -0.4468,  ..., -0.5278, -0.5413, -0.5548],\n",
            "         [-0.3253, -0.3928, -0.4468,  ..., -0.4873, -0.4873, -0.5008]]]), tensor([0., 0., 0.]))\n",
            "(tensor([[[ 2.4561,  2.4561,  2.4966,  ...,  1.3354,  1.4164,  1.2949],\n",
            "         [ 2.4561,  2.4021,  2.1996,  ...,  0.0257,  0.1743,  0.4713],\n",
            "         [ 1.8215,  1.8080,  1.8215,  ...,  0.2553,  0.2688,  0.3633],\n",
            "         ...,\n",
            "         [-0.7304, -0.7304, -0.7304,  ...,  0.4848,  0.6198,  0.2013],\n",
            "         [-0.7304, -0.7304, -0.7304,  ...,  0.4848,  0.4713,  0.2283],\n",
            "         [-0.7304, -0.7304, -0.7304,  ...,  0.5658,  0.2958,  0.1068]],\n",
            "\n",
            "        [[ 2.4561,  2.4561,  2.4966,  ...,  1.3354,  1.4164,  1.2949],\n",
            "         [ 2.4561,  2.4021,  2.1996,  ...,  0.0257,  0.1743,  0.4713],\n",
            "         [ 1.8215,  1.8080,  1.8215,  ...,  0.2553,  0.2688,  0.3633],\n",
            "         ...,\n",
            "         [-0.7304, -0.7304, -0.7304,  ...,  0.4848,  0.6198,  0.2013],\n",
            "         [-0.7304, -0.7304, -0.7304,  ...,  0.4848,  0.4713,  0.2283],\n",
            "         [-0.7304, -0.7304, -0.7304,  ...,  0.5658,  0.2958,  0.1068]],\n",
            "\n",
            "        [[ 2.4561,  2.4561,  2.4966,  ...,  1.3354,  1.4164,  1.2949],\n",
            "         [ 2.4561,  2.4021,  2.1996,  ...,  0.0257,  0.1743,  0.4713],\n",
            "         [ 1.8215,  1.8080,  1.8215,  ...,  0.2553,  0.2688,  0.3633],\n",
            "         ...,\n",
            "         [-0.7304, -0.7304, -0.7304,  ...,  0.4848,  0.6198,  0.2013],\n",
            "         [-0.7304, -0.7304, -0.7304,  ...,  0.4848,  0.4713,  0.2283],\n",
            "         [-0.7304, -0.7304, -0.7304,  ...,  0.5658,  0.2958,  0.1068]]]), tensor([0., 0., 0.]))\n",
            "cuda\n"
          ]
        }
      ],
      "source": [
        "#1 = ET, 2 = CVC, 3 = CT\n",
        "#mdai.visualize.load_dicom_image(image_id, to_RGB=False, rescale=True)\n",
        "#mdai.visualize.get_image_ground_truth(image_id=image_id, dataset=dataset)\n",
        "#minX = 320, minY = 320, maxX = 337, maxY = 400; x = width, y = height\n",
        "#problem: varying image dimensions, varying label sizes (depends on # of annotations)\n",
        "classes = [1,2,3]\n",
        "\n",
        "ids = imgIds\n",
        "# ctr = 0\n",
        "# for id in ids:\n",
        "#   try:\n",
        "#     temp = dataset.get_annotations_by_image_id(id)\n",
        "#     tempList = []\n",
        "#     for dictionary in temp:\n",
        "#       tempList.append(dictionary[\"labelId\"])\n",
        "#     if len(set(tempList)) != len(tempList):\n",
        "#       ctr+=1\n",
        "#       print(ids.index(id), len(tempList), len(set(tempList)))\n",
        "#   except:\n",
        "#     pass\n",
        "# print(ctr)\n",
        "\n",
        "# maxX = 100\n",
        "# maxY = 100\n",
        "# for id in imgIds:\n",
        "#   maxX = max(maxX,mdai.visualize.load_dicom_image(id, to_RGB=False, rescale=True).shape[0])\n",
        "#   maxY = max(maxY,mdai.visualize.load_dicom_image(id, to_RGB=False, rescale=True).shape[1])\n",
        "# print(maxX,maxY)\n",
        "\n",
        "#binary classification for checking instrument type\n",
        "\n",
        "#use labels_dict\n",
        "\n",
        "#use data key in order to get coords of bounding box\n",
        "mean = torch.tensor([0,0,0])\n",
        "std = torch.tensor([0,0,0])\n",
        "for img in preloadedImagesTrain:\n",
        "  img = torch.tensor(img, dtype = torch.float32)\n",
        "  temp = img.mean([0,1])\n",
        "  mean = mean + img.mean([0,1])\n",
        "  std = std + img.std([0,1])\n",
        "\n",
        "for img in preloadedImagesTest:\n",
        "  img = torch.tensor(img, dtype = torch.float32)\n",
        "  temp = img.mean([0,1])\n",
        "  mean = mean + img.mean([0,1])\n",
        "  std = std + img.std([0,1])\n",
        "\n",
        "mean = mean/(255 *len(ids))\n",
        "std = std/(255 *len(ids))\n",
        "\n",
        "print(mean, std)\n",
        "\n",
        "# import torch_xla\n",
        "# import torch_xla.core.xla_model as xm\n",
        "\n",
        "class DicomDataset(Dataset):\n",
        "  def __init__(self, ids, preloadedImages, dataset, labels_dict, boundingBox = False, transform = None, outputTransform = None):\n",
        "      super().__init__()\n",
        "      self.ids = ids\n",
        "      self.preloadedImages = preloadedImages\n",
        "      self.boundingBox = boundingBox\n",
        "      self.transform = transform\n",
        "      self.outputTransform = outputTransform\n",
        "      self.dataset=dataset\n",
        "      self.labels_dict = labels_dict\n",
        "  \n",
        "  def __getitem__(self, idx):\n",
        "    imgID = self.ids[idx]\n",
        "    self.x = self.preloadedImages[idx]\n",
        "    try:\n",
        "      self.annotations = self.dataset.get_annotations_by_image_id(imgID)\n",
        "    except:\n",
        "      self.annotations = []\n",
        "    labels = []\n",
        "\n",
        "    #bounding box output should be 4x3 instead of 1x3, assume no duplicates for now\n",
        "    #Is it feasible if I treat the bounding boxes like this. In the testing, if the predicted column is 1, then the bounding box testing should return a nonzero value, else, it should also return [0,0,0,0]\n",
        "    for dictionary in self.annotations:\n",
        "      labels.append(dictionary[\"labelId\"])\n",
        "\n",
        "    indicies = []\n",
        "    for label in labels:\n",
        "      indicies.append(self.labels_dict[label])\n",
        "    \n",
        "    self.output = []\n",
        "    for i in range(1,4):\n",
        "      if(i in indicies):\n",
        "        self.output.append(1)\n",
        "      else:\n",
        "        self.output.append(0)\n",
        "\n",
        "    if(self.transform):\n",
        "      self.x = self.transform(self.x)\n",
        "      # mean = self.x.mean([1,2])\n",
        "      # std = self.x.std([1,2])\n",
        "      # normalize = transforms.Normalize(mean,std)\n",
        "\n",
        "      # self.x = normalize(self.x)\n",
        "\n",
        "    if(self.outputTransform):\n",
        "      self.output = self.outputTransform(self.output)\n",
        "\n",
        "    return self.x, torch.FloatTensor(self.output)\n",
        "\n",
        "    \n",
        "  def __repr__(self):\n",
        "      return \"This is my dataset and it has length {}\".format(len(self))\n",
        "\n",
        "  def __len__(self):\n",
        "    return len(self.ids)\n",
        "\n",
        "\n",
        "#transforms.Compose()\n",
        "transform = transforms.Compose([transforms.ToTensor(), transforms.Resize((320,320)), transforms.Normalize(mean = mean, std = std), transforms.RandomInvert(1.)])\n",
        "\n",
        "train_dataset = DicomDataset(train_ids, preloadedImagesTrain, dataset, labels_dict,boundingBox = False, transform = transform)\n",
        "test_dataset = DicomDataset(test_ids, preloadedImagesTest, dataset, labels_dict,boundingBox = False, transform = transform)\n",
        "\n",
        "# train_datasetBounding = DicomDataset(train_ids, preloadedImages, dataset, labels_dict, boundingBox = True, transform = transform)\n",
        "# test_datasetBounding = DicomDataset(test_ids, preloadedImages, dataset, labels_dict, boundingBox = True, transform = transform)\n",
        "\n",
        "my_dataloader = DataLoader(train_dataset, batch_size=32, shuffle=True, num_workers = 2)\n",
        "my_dataloader2 = DataLoader(test_dataset, batch_size=32, shuffle=False, num_workers = 2)\n",
        "\n",
        "print(train_dataset.__getitem__(9))\n",
        "print(test_dataset.__getitem__(9))\n",
        "device = torch.device(\"cuda\" if torch.cuda.is_available() else \"cpu\")\n",
        "print(device)"
      ]
    },
    {
      "cell_type": "code",
      "source": [
        "class PreprocessAnnotations(object):\n",
        "  def __init__(self, dataset, size, to_single_bbox=True):\n",
        "    self.dataset = dataset\n",
        "    self.size = size\n",
        "    self.to_single_bbox = to_single_bbox\n",
        "\n",
        "  def __call__(self, annotations, image):\n",
        "    # retrieve the image labels and resized bounding boxes\n",
        "    targets = torch.zeros(3).long() # 3 entries (one for each device type)\n",
        "    bboxes = []\n",
        "    \n",
        "    for ann in annotations:\n",
        "      if 'data' in ann and 'labelId' in ann:\n",
        "        # classification labels\n",
        "        class_idx = self.dataset.label_id_to_class_id(ann['labelId']) - 1 # 0-based class index\n",
        "        targets[class_idx] = 1\n",
        "\n",
        "        # bounding boxes\n",
        "        height, width, _ = image.shape\n",
        "        div_y, div_x = height / self.size, width / self.size\n",
        "        y, x = ann['data']['y'] / div_y, ann['data']['x'] / div_x\n",
        "        new_height, new_width = ann['data']['height'] / div_y, ann['data']['width'] / div_x\n",
        "        bbox = torch.tensor([y, x, new_height, new_width, class_idx + 1])\n",
        "        bboxes.append(bbox)\n",
        "\n",
        "    # create a single bbox to facilitate an easy (but incorrect) single bbox detector model\n",
        "    if self.to_single_bbox:\n",
        "      bboxes = bboxes[0] if len(bboxes) > 0 else torch.tensor([0., 0., 0., 0., 0.])\n",
        "\n",
        "    return targets, bboxes"
      ],
      "metadata": {
        "id": "VMb20aT9IThR"
      },
      "execution_count": null,
      "outputs": []
    },
    {
      "cell_type": "code",
      "source": [
        "class ExtendedResNet(nn.Module):\n",
        "  def __init__(self, pretrained):\n",
        "    super(ExtendedResNet, self).__init__() # inherit nn.Module\n",
        "    self.pretrained = pretrained # import pretrained model\n",
        "    pretrained.fc = nn.Linear(pretrained.fc.in_features, 30)\n",
        "    self.dropout = nn.Dropout(p=0.5)\n",
        "    self.final = nn.Linear(30,3)\n",
        "  def forward(self, x):\n",
        "    x = self.pretrained(x)\n",
        "    x = torch.relu(x)\n",
        "    x = self.dropout(x)\n",
        "    x = self.final(x)\n",
        "    return x"
      ],
      "metadata": {
        "id": "WBu6zHfs4HNl"
      },
      "execution_count": null,
      "outputs": []
    },
    {
      "cell_type": "code",
      "source": [
        "#testing data\n",
        "def checkAccuracy(train = False):\n",
        "  if(not train):\n",
        "    dataloader = my_dataloader2 \n",
        "\n",
        "  else:\n",
        "    dataloader = my_dataloader\n",
        "  with torch.no_grad():\n",
        "    model.eval()\n",
        "    totalSamples = 0\n",
        "    totalCorrect = 0\n",
        "    for index, (image, labels) in enumerate(dataloader):\n",
        "      image = image.to(device)\n",
        "      labels = labels.to(device)\n",
        "      raw = torch.sigmoid(model(image))\n",
        "      pred = torch.round(raw)\n",
        "      totalSamples+=(labels.shape[0] * 3)\n",
        "      for index, data in enumerate(pred):\n",
        "        for i in range(3):\n",
        "          if(torch.equal(pred[index][i], labels[index][i])):\n",
        "            #print(pred[index], labels[index], i)\n",
        "            totalCorrect += 1\n",
        "          else:\n",
        "            pass\n",
        "            #print(raw[index], labels[index])\n",
        "    print(totalCorrect*100/totalSamples)\n",
        "    return totalCorrect*100/totalSamples"
      ],
      "metadata": {
        "id": "NQrpE2-sgV4H"
      },
      "execution_count": null,
      "outputs": []
    },
    {
      "cell_type": "code",
      "execution_count": null,
      "metadata": {
        "colab": {
          "base_uri": "https://localhost:8080/",
          "height": 638,
          "referenced_widgets": [
            "563168b193b446c4a6cc49c3c7cb1d21",
            "991c72b93478438798501e6b59aff595",
            "7633c15fd63740fda9bb1e04c7264c04",
            "0c9c34b7fa41464c80c1116722ab4d35",
            "4d78e2ddccc24978889f71d66f56f837",
            "940453e309bd41119c9169b63e6a82c4",
            "0e60eed6d451484fb017c3e0219bb8e7",
            "c18f154b39824a5b8a9d508957854fe8",
            "85c8f82748be49ec8d0fce77bf81797d",
            "0ba65f6037534acc8e3dfbf601088d63",
            "43a6ed5baf4d4427843e320f7c6080e9"
          ]
        },
        "id": "J5ITF7TEaf0h",
        "outputId": "728cab18-c555-43a0-cc3b-541088d127c5"
      },
      "outputs": [
        {
          "output_type": "stream",
          "name": "stderr",
          "text": [
            "Downloading: \"https://download.pytorch.org/models/resnet18-f37072fd.pth\" to /root/.cache/torch/hub/checkpoints/resnet18-f37072fd.pth\n"
          ]
        },
        {
          "output_type": "display_data",
          "data": {
            "text/plain": [
              "  0%|          | 0.00/44.7M [00:00<?, ?B/s]"
            ],
            "application/vnd.jupyter.widget-view+json": {
              "version_major": 2,
              "version_minor": 0,
              "model_id": "563168b193b446c4a6cc49c3c7cb1d21"
            }
          },
          "metadata": {}
        },
        {
          "output_type": "stream",
          "name": "stdout",
          "text": [
            "[1] loss: 0.492\n",
            "85.5925925925926\n",
            "[1] val_loss: 0.382\n",
            "85.55555555555556\n",
            "[2] loss: 0.382\n",
            "87.81481481481481\n",
            "[2] val_loss: 0.359\n",
            "85.77777777777777\n",
            "[3] loss: 0.303\n",
            "88.75925925925925\n",
            "[3] val_loss: 0.444\n",
            "85.88888888888889\n",
            "[4] loss: 0.227\n",
            "96.25925925925925\n",
            "[4] val_loss: 0.363\n",
            "85.66666666666667\n",
            "[5] loss: 0.205\n",
            "96.48148148148148\n",
            "[5] val_loss: 0.364\n",
            "85.88888888888889\n",
            "[6] loss: 0.185\n",
            "97.20370370370371\n",
            "[6] val_loss: 0.364\n",
            "86.0\n",
            "[7] loss: 0.174\n",
            "97.5925925925926\n",
            "[7] val_loss: 0.369\n",
            "85.11111111111111\n",
            "[8] loss: 0.166\n",
            "97.88888888888889\n",
            "[8] val_loss: 0.374\n",
            "85.44444444444444\n"
          ]
        }
      ],
      "source": [
        "import torchvision\n",
        "from sklearn.utils.class_weight import compute_class_weight\n",
        "from torch.optim import lr_scheduler\n",
        "from keras import models\n",
        "from keras import layers \n",
        "import seaborn as sns\n",
        "import matplotlib.pyplot as plt\n",
        "\n",
        "tempModel = torchvision.models.resnet18(pretrained=True)\n",
        "\n",
        "model = ExtendedResNet(tempModel)\n",
        "\n",
        "model.to(device)\n",
        "\n",
        "\n",
        "learning_rate= 0.0001\n",
        "numIters = 8\n",
        "\n",
        "loss = nn.BCEWithLogitsLoss(weight = torch.tensor([1,1,1], device = device))\n",
        "optimizer = torch.optim.AdamW(model.parameters(), lr = learning_rate, weight_decay = 0.1)\n",
        "stepScheduler = lr_scheduler.MultiStepLR(optimizer, milestones = [3,10], gamma = 0.1)\n",
        "\n",
        "train_loss = []\n",
        "val_loss = []\n",
        "\n",
        "train_acc = []\n",
        "val_acc = []\n",
        "\n",
        "for epoch in range(numIters):\n",
        "  currentLoss = 0.0\n",
        "  validationLoss = 0.0\n",
        "  model.train()\n",
        "  for index, (images, labels) in enumerate(my_dataloader):\n",
        "\n",
        "    images = images.to(device)\n",
        "    labels = labels.to(device)\n",
        "    predictedOutputs = model(images)\n",
        "\n",
        "    error = loss(predictedOutputs, labels.float())\n",
        "    error.backward()\n",
        "    optimizer.step()\n",
        "    optimizer.zero_grad()\n",
        "    currentLoss+=error.item()\n",
        "\n",
        "  print(f'[{epoch + 1}] loss: {currentLoss / len(my_dataloader):.3f}')\n",
        "  train_loss.append(currentLoss / len(my_dataloader))\n",
        "  train_acc.append(checkAccuracy(train = True))\n",
        "  currentLoss = 0.0\n",
        "\n",
        "  stepScheduler.step()\n",
        "\n",
        "  #validation\n",
        "  model.eval()\n",
        "  with torch.no_grad():\n",
        "    for index, (image, labels) in enumerate(my_dataloader2):\n",
        "      image = image.to(device)\n",
        "      labels = labels.to(device)\n",
        "      outputs = model(image)\n",
        "      error = loss(outputs, labels.float())\n",
        "      validationLoss += error.item()\n",
        "\n",
        "    print(f'[{epoch + 1}] val_loss: {validationLoss / len(my_dataloader2):.3f}')\n",
        "    val_loss.append(validationLoss / len(my_dataloader2))\n",
        "    val_acc.append(checkAccuracy())\n",
        "    validationLoss = 0.0\n"
      ]
    },
    {
      "cell_type": "code",
      "source": [
        "#Plot Graph\n",
        "\n",
        "epochs = range(1,numIters + 1)\n",
        "\n",
        "plt.plot(epochs, train_loss, 'g', label='Training loss')\n",
        "plt.plot(epochs, val_loss, 'b', label='validation loss')\n",
        "plt.title('Training and Validation loss')\n",
        "plt.xlabel('Epochs')\n",
        "plt.ylabel('Loss')\n",
        "plt.legend()\n",
        "plt.show()\n",
        "\n",
        "plt.plot(epochs, train_acc, 'g', label='Training Accuracy')\n",
        "plt.plot(epochs, val_acc, 'b', label='validation Accuracy')\n",
        "plt.title('Training and Validation Accuracy')\n",
        "plt.xlabel('Epochs')\n",
        "plt.ylabel('Accuracy')\n",
        "plt.legend()\n",
        "plt.show()"
      ],
      "metadata": {
        "colab": {
          "base_uri": "https://localhost:8080/",
          "height": 573
        },
        "id": "JOh3xNhOeaK4",
        "outputId": "299c089c-ccaf-4743-a012-439ff7e1cefe"
      },
      "execution_count": null,
      "outputs": [
        {
          "output_type": "display_data",
          "data": {
            "text/plain": [
              "<Figure size 432x288 with 1 Axes>"
            ],
            "image/png": "[encoded data removed]"
          },
          "metadata": {
            "needs_background": "light"
          }
        },
        {
          "output_type": "display_data",
          "data": {
            "text/plain": [
              "<Figure size 432x288 with 1 Axes>"
            ],
            "image/png": "[encoded data removed]"
          },
          "metadata": {
            "needs_background": "light"
          }
        }
      ]
    },
    {
      "cell_type": "code",
      "execution_count": null,
      "metadata": {
        "colab": {
          "base_uri": "https://localhost:8080/"
        },
        "id": "JDh1XhQY4cMt",
        "outputId": "e8600652-62ca-47ec-b189-e4d943314da6"
      },
      "outputs": [
        {
          "output_type": "stream",
          "name": "stdout",
          "text": [
            "85.44444444444444\n"
          ]
        },
        {
          "output_type": "execute_result",
          "data": {
            "text/plain": [
              "85.44444444444444"
            ]
          },
          "metadata": {},
          "execution_count": 24
        }
      ],
      "source": [
        "checkAccuracy()"
      ]
    },
    {
      "cell_type": "code",
      "source": [
        "IMAGE_SIZE=320 # only if you resized your images this way (torchvision.transforms.Resize(IMAGE_SIZE,IMAGE_SIZE)), otherwise you need to adapt this\n",
        "preloadedImages = []\n",
        "for id in test_dataset.all_image_ids:\n",
        "  preloadedImages.append(mdai.visualize.load_dicom_image(id, to_RGB=True, rescale=True))\n",
        "\n",
        "for img in preloadedImages:\n",
        "  img = torch.tensor(img, dtype = torch.float32)\n",
        "  temp = img.mean([0,1])\n",
        "  mean = mean + img.mean([0,1])\n",
        "  std = std + img.std([0,1])\n",
        "\n",
        "mean = mean/(255 *len(test_dataset.all_image_ids))\n",
        "std = std/(255 *len(test_dataset.all_image_ids))\n",
        "\n",
        "transform = transforms.Compose([transforms.ToTensor(), transforms.Resize((320,320)), transforms.Normalize(mean = mean, std = std), transforms.RandomInvert(1.)])\n",
        "\n",
        "officialTestDataset = DicomDataset(test_dataset.all_image_ids, preloadedImages, test_dataset, labels_dict, boundingBox = False, transform = transform)"
      ],
      "metadata": {
        "id": "HeNbxKRwK_BV"
      },
      "execution_count": null,
      "outputs": []
    },
    {
      "cell_type": "code",
      "source": [
        "dl = torch.utils.data.DataLoader(officialTestDataset, batch_size=16)\n",
        "batch = next(iter(dl))\n",
        "print(batch)"
      ],
      "metadata": {
        "colab": {
          "base_uri": "https://localhost:8080/"
        },
        "id": "SSzGpnhu5Wdj",
        "outputId": "bdeb0bea-a0f2-47f1-93f6-ffd21e659d13"
      },
      "execution_count": null,
      "outputs": [
        {
          "output_type": "stream",
          "name": "stdout",
          "text": [
            "[tensor([[[[-0.5188, -0.4934, -0.4853,  ..., -0.4721, -0.4721, -0.4721],\n",
            "          [-0.5124, -0.4934, -0.4853,  ..., -0.4721, -0.4721, -0.4721],\n",
            "          [-0.5056, -0.4828, -0.4721,  ..., -0.4721, -0.4721, -0.4721],\n",
            "          ...,\n",
            "          [-0.3637, -0.3444, -0.3423,  ..., -0.0028, -0.0520, -0.0768],\n",
            "          [-0.3674, -0.3543, -0.3539,  ..., -0.0174, -0.0509, -0.0944],\n",
            "          [-0.3738, -0.3617, -0.3575,  ...,  0.0220, -0.0087, -0.0572]],\n",
            "\n",
            "         [[-0.5188, -0.4934, -0.4853,  ..., -0.4721, -0.4721, -0.4721],\n",
            "          [-0.5124, -0.4934, -0.4853,  ..., -0.4721, -0.4721, -0.4721],\n",
            "          [-0.5056, -0.4828, -0.4721,  ..., -0.4721, -0.4721, -0.4721],\n",
            "          ...,\n",
            "          [-0.3637, -0.3444, -0.3423,  ..., -0.0028, -0.0520, -0.0768],\n",
            "          [-0.3674, -0.3543, -0.3539,  ..., -0.0174, -0.0509, -0.0944],\n",
            "          [-0.3738, -0.3617, -0.3575,  ...,  0.0220, -0.0087, -0.0572]],\n",
            "\n",
            "         [[-0.5188, -0.4934, -0.4853,  ..., -0.4721, -0.4721, -0.4721],\n",
            "          [-0.5124, -0.4934, -0.4853,  ..., -0.4721, -0.4721, -0.4721],\n",
            "          [-0.5056, -0.4828, -0.4721,  ..., -0.4721, -0.4721, -0.4721],\n",
            "          ...,\n",
            "          [-0.3637, -0.3444, -0.3423,  ..., -0.0028, -0.0520, -0.0768],\n",
            "          [-0.3674, -0.3543, -0.3539,  ..., -0.0174, -0.0509, -0.0944],\n",
            "          [-0.3738, -0.3617, -0.3575,  ...,  0.0220, -0.0087, -0.0572]]],\n",
            "\n",
            "\n",
            "        [[[-0.5552, -0.5644, -0.5776,  ..., -0.5776, -0.5644, -0.5552],\n",
            "          [-0.5552, -0.5644, -0.5776,  ..., -0.5776, -0.5644, -0.5552],\n",
            "          [-0.5552, -0.5644, -0.5776,  ..., -0.5776, -0.5644, -0.5552],\n",
            "          ...,\n",
            "          [-0.5512, -0.5512, -0.5512,  ...,  0.3079,  0.2301,  0.1550],\n",
            "          [-0.6039, -0.6039, -0.6039,  ...,  0.3353,  0.2525,  0.1739],\n",
            "          [-0.6114, -0.6114, -0.6114,  ...,  0.3788,  0.3076,  0.2378]],\n",
            "\n",
            "         [[-0.5552, -0.5644, -0.5776,  ..., -0.5776, -0.5644, -0.5552],\n",
            "          [-0.5552, -0.5644, -0.5776,  ..., -0.5776, -0.5644, -0.5552],\n",
            "          [-0.5552, -0.5644, -0.5776,  ..., -0.5776, -0.5644, -0.5552],\n",
            "          ...,\n",
            "          [-0.5512, -0.5512, -0.5512,  ...,  0.3079,  0.2301,  0.1550],\n",
            "          [-0.6039, -0.6039, -0.6039,  ...,  0.3353,  0.2525,  0.1739],\n",
            "          [-0.6114, -0.6114, -0.6114,  ...,  0.3788,  0.3076,  0.2378]],\n",
            "\n",
            "         [[-0.5552, -0.5644, -0.5776,  ..., -0.5776, -0.5644, -0.5552],\n",
            "          [-0.5552, -0.5644, -0.5776,  ..., -0.5776, -0.5644, -0.5552],\n",
            "          [-0.5552, -0.5644, -0.5776,  ..., -0.5776, -0.5644, -0.5552],\n",
            "          ...,\n",
            "          [-0.5512, -0.5512, -0.5512,  ...,  0.3079,  0.2301,  0.1550],\n",
            "          [-0.6039, -0.6039, -0.6039,  ...,  0.3353,  0.2525,  0.1739],\n",
            "          [-0.6114, -0.6114, -0.6114,  ...,  0.3788,  0.3076,  0.2378]]],\n",
            "\n",
            "\n",
            "        [[[-0.6171, -0.6171, -0.6171,  ..., -0.6171, -0.6171, -0.6171],\n",
            "          [-0.6171, -0.6171, -0.6171,  ..., -0.6171, -0.6171, -0.6171],\n",
            "          [-0.6171, -0.6171, -0.6171,  ..., -0.6171, -0.6171, -0.6171],\n",
            "          ...,\n",
            "          [-0.6171, -0.6171, -0.6171,  ..., -0.6171, -0.6171, -0.6171],\n",
            "          [-0.6171, -0.6171, -0.6171,  ..., -0.6171, -0.6171, -0.6171],\n",
            "          [-0.6171, -0.6171, -0.6171,  ..., -0.6171, -0.6171, -0.6171]],\n",
            "\n",
            "         [[-0.6171, -0.6171, -0.6171,  ..., -0.6171, -0.6171, -0.6171],\n",
            "          [-0.6171, -0.6171, -0.6171,  ..., -0.6171, -0.6171, -0.6171],\n",
            "          [-0.6171, -0.6171, -0.6171,  ..., -0.6171, -0.6171, -0.6171],\n",
            "          ...,\n",
            "          [-0.6171, -0.6171, -0.6171,  ..., -0.6171, -0.6171, -0.6171],\n",
            "          [-0.6171, -0.6171, -0.6171,  ..., -0.6171, -0.6171, -0.6171],\n",
            "          [-0.6171, -0.6171, -0.6171,  ..., -0.6171, -0.6171, -0.6171]],\n",
            "\n",
            "         [[-0.6171, -0.6171, -0.6171,  ..., -0.6171, -0.6171, -0.6171],\n",
            "          [-0.6171, -0.6171, -0.6171,  ..., -0.6171, -0.6171, -0.6171],\n",
            "          [-0.6171, -0.6171, -0.6171,  ..., -0.6171, -0.6171, -0.6171],\n",
            "          ...,\n",
            "          [-0.6171, -0.6171, -0.6171,  ..., -0.6171, -0.6171, -0.6171],\n",
            "          [-0.6171, -0.6171, -0.6171,  ..., -0.6171, -0.6171, -0.6171],\n",
            "          [-0.6171, -0.6171, -0.6171,  ..., -0.6171, -0.6171, -0.6171]]],\n",
            "\n",
            "\n",
            "        ...,\n",
            "\n",
            "\n",
            "        [[[-0.4323, -0.3730, -0.3097,  ..., -0.5054, -0.5054, -0.5054],\n",
            "          [-0.4814, -0.4603, -0.4532,  ..., -0.5529, -0.5529, -0.5529],\n",
            "          [-0.4918, -0.4763, -0.4604,  ..., -0.5988, -0.5988, -0.5988],\n",
            "          ...,\n",
            "          [ 2.2218,  2.2656,  2.3020,  ..., -0.4721, -0.4721, -0.4721],\n",
            "          [ 2.2524,  2.2734,  2.3020,  ..., -0.4721, -0.4721, -0.4721],\n",
            "          [ 2.2885,  2.2885,  2.2922,  ..., -0.4721, -0.4721, -0.4721]],\n",
            "\n",
            "         [[-0.4323, -0.3730, -0.3097,  ..., -0.5054, -0.5054, -0.5054],\n",
            "          [-0.4814, -0.4603, -0.4532,  ..., -0.5529, -0.5529, -0.5529],\n",
            "          [-0.4918, -0.4763, -0.4604,  ..., -0.5988, -0.5988, -0.5988],\n",
            "          ...,\n",
            "          [ 2.2218,  2.2656,  2.3020,  ..., -0.4721, -0.4721, -0.4721],\n",
            "          [ 2.2524,  2.2734,  2.3020,  ..., -0.4721, -0.4721, -0.4721],\n",
            "          [ 2.2885,  2.2885,  2.2922,  ..., -0.4721, -0.4721, -0.4721]],\n",
            "\n",
            "         [[-0.4323, -0.3730, -0.3097,  ..., -0.5054, -0.5054, -0.5054],\n",
            "          [-0.4814, -0.4603, -0.4532,  ..., -0.5529, -0.5529, -0.5529],\n",
            "          [-0.4918, -0.4763, -0.4604,  ..., -0.5988, -0.5988, -0.5988],\n",
            "          ...,\n",
            "          [ 2.2218,  2.2656,  2.3020,  ..., -0.4721, -0.4721, -0.4721],\n",
            "          [ 2.2524,  2.2734,  2.3020,  ..., -0.4721, -0.4721, -0.4721],\n",
            "          [ 2.2885,  2.2885,  2.2922,  ..., -0.4721, -0.4721, -0.4721]]],\n",
            "\n",
            "\n",
            "        [[[-0.4924, -0.4803, -0.4761,  ..., -0.4853, -0.4853, -0.4853],\n",
            "          [-0.4924, -0.4803, -0.4761,  ..., -0.4853, -0.4853, -0.4853],\n",
            "          [-0.4924, -0.4803, -0.4761,  ..., -0.4853, -0.4853, -0.4853],\n",
            "          ...,\n",
            "          [-0.2865, -0.4089, -0.3271,  ..., -0.4194, -0.4194, -0.4194],\n",
            "          [-0.3137, -0.4215, -0.2587,  ..., -0.4194, -0.4194, -0.4194],\n",
            "          [-0.3250, -0.4219, -0.1946,  ..., -0.4194, -0.4194, -0.4194]],\n",
            "\n",
            "         [[-0.4924, -0.4803, -0.4761,  ..., -0.4853, -0.4853, -0.4853],\n",
            "          [-0.4924, -0.4803, -0.4761,  ..., -0.4853, -0.4853, -0.4853],\n",
            "          [-0.4924, -0.4803, -0.4761,  ..., -0.4853, -0.4853, -0.4853],\n",
            "          ...,\n",
            "          [-0.2865, -0.4089, -0.3271,  ..., -0.4194, -0.4194, -0.4194],\n",
            "          [-0.3137, -0.4215, -0.2587,  ..., -0.4194, -0.4194, -0.4194],\n",
            "          [-0.3250, -0.4219, -0.1946,  ..., -0.4194, -0.4194, -0.4194]],\n",
            "\n",
            "         [[-0.4924, -0.4803, -0.4761,  ..., -0.4853, -0.4853, -0.4853],\n",
            "          [-0.4924, -0.4803, -0.4761,  ..., -0.4853, -0.4853, -0.4853],\n",
            "          [-0.4924, -0.4803, -0.4761,  ..., -0.4853, -0.4853, -0.4853],\n",
            "          ...,\n",
            "          [-0.2865, -0.4089, -0.3271,  ..., -0.4194, -0.4194, -0.4194],\n",
            "          [-0.3137, -0.4215, -0.2587,  ..., -0.4194, -0.4194, -0.4194],\n",
            "          [-0.3250, -0.4219, -0.1946,  ..., -0.4194, -0.4194, -0.4194]]],\n",
            "\n",
            "\n",
            "        [[[-0.6171, -0.6171, -0.6171,  ..., -0.6171, -0.6171, -0.6171],\n",
            "          [-0.6171, -0.6171, -0.6171,  ..., -0.6171, -0.6171, -0.6171],\n",
            "          [-0.6171, -0.6171, -0.6171,  ..., -0.6171, -0.6171, -0.6171],\n",
            "          ...,\n",
            "          [ 1.4223,  1.6608,  1.6962,  ...,  1.5586,  1.4829,  1.4370],\n",
            "          [ 1.3771,  1.6348,  1.6845,  ...,  1.5786,  1.5153,  1.4680],\n",
            "          [ 0.7241,  0.9262,  0.9326,  ...,  0.8961,  0.8585,  0.8285]],\n",
            "\n",
            "         [[-0.6171, -0.6171, -0.6171,  ..., -0.6171, -0.6171, -0.6171],\n",
            "          [-0.6171, -0.6171, -0.6171,  ..., -0.6171, -0.6171, -0.6171],\n",
            "          [-0.6171, -0.6171, -0.6171,  ..., -0.6171, -0.6171, -0.6171],\n",
            "          ...,\n",
            "          [ 1.4223,  1.6608,  1.6962,  ...,  1.5586,  1.4829,  1.4370],\n",
            "          [ 1.3771,  1.6348,  1.6845,  ...,  1.5786,  1.5153,  1.4680],\n",
            "          [ 0.7241,  0.9262,  0.9326,  ...,  0.8961,  0.8585,  0.8285]],\n",
            "\n",
            "         [[-0.6171, -0.6171, -0.6171,  ..., -0.6171, -0.6171, -0.6171],\n",
            "          [-0.6171, -0.6171, -0.6171,  ..., -0.6171, -0.6171, -0.6171],\n",
            "          [-0.6171, -0.6171, -0.6171,  ..., -0.6171, -0.6171, -0.6171],\n",
            "          ...,\n",
            "          [ 1.4223,  1.6608,  1.6962,  ...,  1.5586,  1.4829,  1.4370],\n",
            "          [ 1.3771,  1.6348,  1.6845,  ...,  1.5786,  1.5153,  1.4680],\n",
            "          [ 0.7241,  0.9262,  0.9326,  ...,  0.8961,  0.8585,  0.8285]]]]), tensor([[1., 1., 0.],\n",
            "        [0., 0., 0.],\n",
            "        [0., 0., 0.],\n",
            "        [0., 0., 0.],\n",
            "        [0., 1., 0.],\n",
            "        [0., 0., 0.],\n",
            "        [0., 1., 0.],\n",
            "        [0., 0., 0.],\n",
            "        [0., 0., 0.],\n",
            "        [1., 0., 1.],\n",
            "        [0., 0., 0.],\n",
            "        [0., 1., 0.],\n",
            "        [1., 0., 0.],\n",
            "        [1., 0., 0.],\n",
            "        [1., 0., 0.],\n",
            "        [0., 1., 1.]])]\n"
          ]
        }
      ]
    },
    {
      "cell_type": "code",
      "source": [
        "#Testing\n",
        "\n",
        "with torch.no_grad():\n",
        "  model.eval()\n",
        "  totalSamples = 0\n",
        "  totalCorrect = 0\n",
        "  for index, (image, labels) in enumerate(dl):\n",
        "    image = image.to(device)\n",
        "    labels = labels.to(device)\n",
        "    raw = torch.sigmoid(model(image))\n",
        "    pred = torch.round(raw)\n",
        "    totalSamples+=(labels.shape[0] * 3)\n",
        "    for index, data in enumerate(pred):\n",
        "      for i in range(3):\n",
        "        if(torch.equal(pred[index][i], labels[index][i])):\n",
        "          #print(pred[index], labels[index], i)\n",
        "          totalCorrect += 1\n",
        "        else:\n",
        "          pass\n",
        "          #print(raw[index], labels[index])\n",
        "  print(totalCorrect*100/totalSamples)"
      ],
      "metadata": {
        "colab": {
          "base_uri": "https://localhost:8080/"
        },
        "id": "P9Jpk5o96B6S",
        "outputId": "3e677885-417a-4d86-aecc-dc87cf73b32b"
      },
      "execution_count": null,
      "outputs": [
        {
          "output_type": "stream",
          "name": "stdout",
          "text": [
            "81.83333333333333\n"
          ]
        }
      ]
    },
    {
      "cell_type": "code",
      "execution_count": null,
      "metadata": {
        "id": "e2ZL0pUksN1s"
      },
      "outputs": [],
      "source": [
        "#Regression Model to predict location of bounding box\n",
        "#To test accuracy, potentially calculate overlapping area\n",
        "\n"
      ]
    },
    {
      "cell_type": "code",
      "source": [
        "#calculating classification metrics\n",
        "from sklearn.metrics import classification_report\n",
        "predictions = [[],[],[]]\n",
        "actual = [[],[],[]]\n",
        "with torch.no_grad():\n",
        "  totalSamples = 0\n",
        "  correct = [0, 0, 0]\n",
        "  model.eval()\n",
        "  tP = [0, 0, 0] # true positive means that predicted 1 when actually 1\n",
        "  tN = [0, 0, 0]\n",
        "  fP = [0, 0, 0]\n",
        "  fN = [0, 0, 0]\n",
        "  for index, (image, labels) in enumerate(dl):\n",
        "    image = image.to(device)\n",
        "    labels = labels.to(device)\n",
        "    pred = torch.round(torch.sigmoid(model(image)))\n",
        "    totalSamples+=labels.shape[0]\n",
        "    for index, data in enumerate(pred):\n",
        "      for i in range(3):\n",
        "        predictions[i].append(pred[index][i].item())\n",
        "        actual[i].append(labels[index][i].item())\n",
        "        if(torch.equal(pred[index][i], labels[index][i])):\n",
        "          if(pred[index][i]==1):\n",
        "            tP[i]+=1\n",
        "          else:\n",
        "            tN[i]+=1\n",
        "        else:\n",
        "          if(pred[index][i]==1):\n",
        "            fP[i]+=1\n",
        "          else:\n",
        "            fN[i]+=1\n",
        "\n",
        "  print(\"%... \")\n",
        "\n",
        "target_names = [\"Is Not Present\", \"Is Present\"]\n",
        "\n",
        "print(\"Endotracheal Tube Metrics\")\n",
        "print(classification_report(actual[0], predictions[0], target_names=target_names))\n",
        "print()\n",
        "print(\"Central Venous Catheter Metrics\")\n",
        "print(classification_report(actual[1], predictions[1], target_names=target_names))\n",
        "print()\n",
        "print(\"Chest Tube Metrics \")\n",
        "print(classification_report(actual[2], predictions[2], target_names=target_names))\n",
        "  # print()\n",
        "\n",
        "  # for i in range(3):\n",
        "  #   print(i)\n",
        "\n",
        "  #   print(\"correct:\")\n",
        "  #   correct[i] = (tN[i]+tP[i])*100/(tN[i]+tP[i]+fN[i]+fP[i])\n",
        "  #   print(correct[i])\n",
        "  #   print(\"sensitivity: \")\n",
        "  #   print(tP[i]*100/(tP[i]+fN[i]))\n",
        "  #   print(\"specificity: \")\n",
        "  #   print(tN[i]*100/(tN[i]+fP[i]))\n",
        "\n",
        "  #   print()\n",
        "\n",
        "  #   #uncomment below if you want to know true positive rate, etc.\n",
        "\n",
        "  #   print(\"tP[i]\")\n",
        "  #   print(tP[i]*100/totalSamples)\n",
        "  #   print(\"tN[i]\")\n",
        "  #   print(tN[i]*100/totalSamples)\n",
        "  #   print(\"fP[i]\")\n",
        "  #   print(fP[i]*100/totalSamples)\n",
        "  #   print(\"fN[i]\")\n",
        "  #   print(fN[i]*100/totalSamples)\n",
        "    \n",
        "  #   print()\n",
        "\n",
        "print(\"total correct:\")\n",
        "print((correct[0]+correct[1]+correct[2])/3)"
      ],
      "metadata": {
        "id": "M8aTiMvV3lX_",
        "colab": {
          "base_uri": "https://localhost:8080/"
        },
        "outputId": "b041fa2c-03d3-4bee-bb3d-5c9c5e807799"
      },
      "execution_count": null,
      "outputs": [
        {
          "output_type": "stream",
          "name": "stdout",
          "text": [
            "%... \n",
            "Endotracheal Tube Metrics\n",
            "                precision    recall  f1-score   support\n",
            "\n",
            "Is Not Present       0.78      0.99      0.88       154\n",
            "    Is Present       0.80      0.09      0.16        46\n",
            "\n",
            "      accuracy                           0.79       200\n",
            "     macro avg       0.79      0.54      0.52       200\n",
            "  weighted avg       0.79      0.79      0.71       200\n",
            "\n",
            "\n",
            "Central Venous Catheter Metrics\n",
            "                precision    recall  f1-score   support\n",
            "\n",
            "Is Not Present       0.75      0.99      0.85       147\n",
            "    Is Present       0.67      0.08      0.14        53\n",
            "\n",
            "      accuracy                           0.74       200\n",
            "     macro avg       0.71      0.53      0.49       200\n",
            "  weighted avg       0.73      0.74      0.66       200\n",
            "\n",
            "\n",
            "Chest Tube Metrics \n",
            "                precision    recall  f1-score   support\n",
            "\n",
            "Is Not Present       0.93      1.00      0.96       185\n",
            "    Is Present       0.00      0.00      0.00        15\n",
            "\n",
            "      accuracy                           0.93       200\n",
            "     macro avg       0.46      0.50      0.48       200\n",
            "  weighted avg       0.86      0.93      0.89       200\n",
            "\n",
            "total correct:\n",
            "0.0\n"
          ]
        },
        {
          "output_type": "stream",
          "name": "stderr",
          "text": [
            "/usr/local/lib/python3.7/dist-packages/sklearn/metrics/_classification.py:1318: UndefinedMetricWarning: Precision and F-score are ill-defined and being set to 0.0 in labels with no predicted samples. Use `zero_division` parameter to control this behavior.\n",
            "  _warn_prf(average, modifier, msg_start, len(result))\n",
            "/usr/local/lib/python3.7/dist-packages/sklearn/metrics/_classification.py:1318: UndefinedMetricWarning: Precision and F-score are ill-defined and being set to 0.0 in labels with no predicted samples. Use `zero_division` parameter to control this behavior.\n",
            "  _warn_prf(average, modifier, msg_start, len(result))\n",
            "/usr/local/lib/python3.7/dist-packages/sklearn/metrics/_classification.py:1318: UndefinedMetricWarning: Precision and F-score are ill-defined and being set to 0.0 in labels with no predicted samples. Use `zero_division` parameter to control this behavior.\n",
            "  _warn_prf(average, modifier, msg_start, len(result))\n"
          ]
        }
      ]
    },
    {
      "cell_type": "code",
      "source": [
        "total_accuracy = 0\n",
        "total_ba = 0\n",
        "\n",
        "for i in range(3):\n",
        "    print(i)\n",
        "\n",
        "    print()\n",
        "\n",
        "    print(\"sensitivity/TPR: \")\n",
        "    tpr = tP[i]*100/(tP[i]+fN[i])\n",
        "    print(tpr)\n",
        "    print(\"specificity/TNR: \")\n",
        "    tnr = tN[i]*100/(tN[i]+fP[i])\n",
        "    print(tnr)\n",
        "\n",
        "    print()\n",
        "\n",
        "    print(\"accuracy:\")\n",
        "    accuracy = (tN[i]+tP[i])*100/(totalSamples)\n",
        "    total_accuracy += accuracy\n",
        "    print(accuracy)\n",
        "    print(\"balanced accuracy:\")\n",
        "    ba = (tnr+tpr)/2\n",
        "    total_ba += ba\n",
        "    print(ba)\n",
        "\n",
        "    print()\n",
        "\n",
        "    # uncomment below if you want to know positive predictive value and npv\n",
        "\n",
        "    print(\"ppv/precision:\")\n",
        "    if(i == 2):\n",
        "      ppv = 0\n",
        "    else:\n",
        "      ppv = tP[i]*100/(tP[i]+fP[i])\n",
        "    print(ppv)\n",
        "    print(\"npv:\")\n",
        "    npv = tN[i]*100/(tN[i]+fN[i])\n",
        "    print(npv)\n",
        "    #\n",
        "    print()\n",
        "\n",
        "    # uncomment below if you want to know f1-score\n",
        "    print(\"f1-score\")\n",
        "\n",
        "    if(i == 2):\n",
        "      print(\"NA\")\n",
        "    else:\n",
        "      print(2*ppv*tpr/(ppv+tpr))\n",
        "\n",
        "    #print(2*ppv*tpr/(ppv+tpr))\n",
        "    #\n",
        "    print()\n",
        "    print()\n",
        "\n",
        "print(\"average accuracy:\")\n",
        "print(total_accuracy/3)\n",
        "print(\"average balanced accuracy:\")\n",
        "print(total_ba/3)"
      ],
      "metadata": {
        "colab": {
          "base_uri": "https://localhost:8080/"
        },
        "id": "_br1O-njgIME",
        "outputId": "ab7edfb2-63ba-4811-ea98-7ff4b98ccfed"
      },
      "execution_count": null,
      "outputs": [
        {
          "output_type": "stream",
          "name": "stdout",
          "text": [
            "0\n",
            "\n",
            "sensitivity/TPR: \n",
            "8.695652173913043\n",
            "specificity/TNR: \n",
            "99.35064935064935\n",
            "\n",
            "accuracy:\n",
            "78.5\n",
            "balanced accuracy:\n",
            "54.0231507622812\n",
            "\n",
            "ppv/precision:\n",
            "80.0\n",
            "npv:\n",
            "78.46153846153847\n",
            "\n",
            "f1-score\n",
            "15.686274509803921\n",
            "\n",
            "\n",
            "1\n",
            "\n",
            "sensitivity/TPR: \n",
            "7.547169811320755\n",
            "specificity/TNR: \n",
            "98.63945578231292\n",
            "\n",
            "accuracy:\n",
            "74.5\n",
            "balanced accuracy:\n",
            "53.09331279681684\n",
            "\n",
            "ppv/precision:\n",
            "66.66666666666667\n",
            "npv:\n",
            "74.74226804123711\n",
            "\n",
            "f1-score\n",
            "13.559322033898304\n",
            "\n",
            "\n",
            "2\n",
            "\n",
            "sensitivity/TPR: \n",
            "0.0\n",
            "specificity/TNR: \n",
            "100.0\n",
            "\n",
            "accuracy:\n",
            "92.5\n",
            "balanced accuracy:\n",
            "50.0\n",
            "\n",
            "ppv/precision:\n",
            "0\n",
            "npv:\n",
            "92.5\n",
            "\n",
            "f1-score\n",
            "NA\n",
            "\n",
            "\n",
            "average accuracy:\n",
            "81.83333333333333\n",
            "average balanced accuracy:\n",
            "52.37215451969934\n"
          ]
        }
      ]
    },
    {
      "cell_type": "code",
      "source": [
        "from sklearn.metrics import confusion_matrix\n",
        "\n",
        "cf_matrixET = confusion_matrix(actual[0] , predictions[0])\n",
        "cf_matrixCVC = confusion_matrix(actual[1] , predictions[1])\n",
        "cf_matrixCH = confusion_matrix(actual[2] , predictions[2])"
      ],
      "metadata": {
        "id": "IKO-igczyB4W"
      },
      "execution_count": null,
      "outputs": []
    },
    {
      "cell_type": "code",
      "source": [
        "#show confusion matrices\n",
        "import seaborn as sns\n",
        "import matplotlib.pyplot as plt\n",
        "ax = sns.heatmap(cf_matrixET, annot=True, cmap='Blues', fmt = 'g')\n",
        "\n",
        "ax.set_title('Confusion Matrix for Classifying Endotracheal Tubes\\n\\n');\n",
        "ax.set_xlabel('\\nPredicted Values')\n",
        "ax.set_ylabel('Actual Values ');\n",
        "\n",
        "## Ticket labels - List must be in alphabetical order\n",
        "ax.xaxis.set_ticklabels(['Is Not Present','Is Present'])\n",
        "ax.yaxis.set_ticklabels(['Is Not Present','Is Present'])\n",
        "\n",
        "## Display the visualization of the Confusion Matrix.\n",
        "plt.show()\n",
        "\n",
        "ax = sns.heatmap(cf_matrixCVC, annot=True, cmap='Blues', fmt = 'g')\n",
        "\n",
        "ax.set_title('Confusion Matrix for Classifying Central Venous Catheters\\n\\n');\n",
        "ax.set_xlabel('\\nPredicted Values')\n",
        "ax.set_ylabel('Actual Values ');\n",
        "\n",
        "## Ticket labels - List must be in alphabetical order\n",
        "ax.xaxis.set_ticklabels(['Is Not Present','Is Present'])\n",
        "ax.yaxis.set_ticklabels(['Is Not Present','Is Present'])\n",
        "\n",
        "plt.show()\n",
        "\n",
        "ax = sns.heatmap(cf_matrixCH, annot=True, cmap='Blues', fmt = 'g')\n",
        "\n",
        "ax.set_title('Confusion Matrix for Classifying Chest Tubes\\n\\n');\n",
        "ax.set_xlabel('\\nPredicted Values')\n",
        "ax.set_ylabel('Actual Values ');\n",
        "\n",
        "## Ticket labels - List must be in alphabetical order\n",
        "ax.xaxis.set_ticklabels(['Is Not Present','Is Present'])\n",
        "ax.yaxis.set_ticklabels(['Is Not Present','Is Present'])\n",
        "\n",
        "plt.show()"
      ],
      "metadata": {
        "colab": {
          "base_uri": "https://localhost:8080/",
          "height": 977
        },
        "id": "MHaby_1XTtv0",
        "outputId": "c175e5cd-97a6-4acc-cbef-aaffd6109ec4"
      },
      "execution_count": null,
      "outputs": [
        {
          "output_type": "display_data",
          "data": {
            "text/plain": [
              "<Figure size 432x288 with 2 Axes>"
            ],
            "image/png": "[encoded data removed]"
          },
          "metadata": {
            "needs_background": "light"
          }
        },
        {
          "output_type": "display_data",
          "data": {
            "text/plain": [
              "<Figure size 432x288 with 2 Axes>"
            ],
            "image/png": "[encoded data removed]"
          },
          "metadata": {
            "needs_background": "light"
          }
        },
        {
          "output_type": "display_data",
          "data": {
            "text/plain": [
              "<Figure size 432x288 with 2 Axes>"
            ],
            "image/png": "[encoded data removed]"
          },
          "metadata": {
            "needs_background": "light"
          }
        }
      ]
    },
    {
      "cell_type": "code",
      "source": [
        "#ROC Curve\n",
        "\n",
        "from sklearn import metrics\n",
        "\n",
        "plt.figure(0).clf()\n",
        "\n",
        "fpr, tpr, _ = metrics.roc_curve(actual[0],  predictions[0])\n",
        "plt.plot(fpr,tpr, label = \"ET ROC\")\n",
        "plt.ylabel('True Positive Rate')\n",
        "plt.xlabel('False Positive Rate')\n",
        "#plt.show()\n",
        "\n",
        "auc = metrics.roc_auc_score(actual[0], predictions[0])\n",
        "print(\"ET ROC Value:\", auc)\n",
        "\n",
        "fpr, tpr, _ = metrics.roc_curve(actual[1],  predictions[1])\n",
        "plt.plot(fpr,tpr, label = \"CVC ROC\")\n",
        "# plt.ylabel('True Positive Rate')\n",
        "# plt.xlabel('False Positive Rate')\n",
        "# plt.show()\n",
        "\n",
        "auc = metrics.roc_auc_score(actual[1], predictions[1])\n",
        "print(\"CVC ROC Value:\", auc)\n",
        "\n",
        "fpr, tpr, _ = metrics.roc_curve(actual[2],  predictions[2])\n",
        "plt.plot(fpr,tpr, label = \"Chest Tube ROC,\")\n",
        "# plt.ylabel('True Positive Rate')\n",
        "# plt.xlabel('False Positive Rate')\n",
        "plt.legend(loc=0)\n",
        "\n",
        "auc = metrics.roc_auc_score(actual[2], predictions[2])\n",
        "print(\"Chest Tube ROC Value:\", auc)\n"
      ],
      "metadata": {
        "colab": {
          "base_uri": "https://localhost:8080/",
          "height": 333
        },
        "id": "iGRNYlZ1XjMU",
        "outputId": "3974b398-7928-437b-9e84-20e73688dd1f"
      },
      "execution_count": null,
      "outputs": [
        {
          "output_type": "stream",
          "name": "stdout",
          "text": [
            "ET ROC Value: 0.5563636363636364\n",
            "CVC ROC Value: 0.5639404788543297\n",
            "Chest Tube ROC Value: 0.5\n"
          ]
        },
        {
          "output_type": "display_data",
          "data": {
            "text/plain": [
              "<Figure size 432x288 with 1 Axes>"
            ],
            "image/png": "[encoded data removed]"
          },
          "metadata": {
            "needs_background": "light"
          }
        }
      ]
    }
  ],
  "metadata": {
    "colab": {
      "provenance": [],
      "include_colab_link": true
    },
    "gpuClass": "standard",
    "kernelspec": {
      "display_name": "Python 3",
      "name": "python3"
    },
    "language_info": {
      "name": "python"
    },
    "accelerator": "GPU",
    "widgets": {
      "application/vnd.jupyter.widget-state+json": {
        "563168b193b446c4a6cc49c3c7cb1d21": {
          "model_module": "@jupyter-widgets/controls",
          "model_name": "HBoxModel",
          "model_module_version": "1.5.0",
          "state": {
            "_dom_classes": [],
            "_model_module": "@jupyter-widgets/controls",
            "_model_module_version": "1.5.0",
            "_model_name": "HBoxModel",
            "_view_count": null,
            "_view_module": "@jupyter-widgets/controls",
            "_view_module_version": "1.5.0",
            "_view_name": "HBoxView",
            "box_style": "",
            "children": [
              "IPY_MODEL_991c72b93478438798501e6b59aff595",
              "IPY_MODEL_7633c15fd63740fda9bb1e04c7264c04",
              "IPY_MODEL_0c9c34b7fa41464c80c1116722ab4d35"
            ],
            "layout": "IPY_MODEL_4d78e2ddccc24978889f71d66f56f837"
          }
        },
        "991c72b93478438798501e6b59aff595": {
          "model_module": "@jupyter-widgets/controls",
          "model_name": "HTMLModel",
          "model_module_version": "1.5.0",
          "state": {
            "_dom_classes": [],
            "_model_module": "@jupyter-widgets/controls",
            "_model_module_version": "1.5.0",
            "_model_name": "HTMLModel",
            "_view_count": null,
            "_view_module": "@jupyter-widgets/controls",
            "_view_module_version": "1.5.0",
            "_view_name": "HTMLView",
            "description": "",
            "description_tooltip": null,
            "layout": "IPY_MODEL_940453e309bd41119c9169b63e6a82c4",
            "placeholder": "​",
            "style": "IPY_MODEL_0e60eed6d451484fb017c3e0219bb8e7",
            "value": "100%"
          }
        },
        "7633c15fd63740fda9bb1e04c7264c04": {
          "model_module": "@jupyter-widgets/controls",
          "model_name": "FloatProgressModel",
          "model_module_version": "1.5.0",
          "state": {
            "_dom_classes": [],
            "_model_module": "@jupyter-widgets/controls",
            "_model_module_version": "1.5.0",
            "_model_name": "FloatProgressModel",
            "_view_count": null,
            "_view_module": "@jupyter-widgets/controls",
            "_view_module_version": "1.5.0",
            "_view_name": "ProgressView",
            "bar_style": "success",
            "description": "",
            "description_tooltip": null,
            "layout": "IPY_MODEL_c18f154b39824a5b8a9d508957854fe8",
            "max": 46830571,
            "min": 0,
            "orientation": "horizontal",
            "style": "IPY_MODEL_85c8f82748be49ec8d0fce77bf81797d",
            "value": 46830571
          }
        },
        "0c9c34b7fa41464c80c1116722ab4d35": {
          "model_module": "@jupyter-widgets/controls",
          "model_name": "HTMLModel",
          "model_module_version": "1.5.0",
          "state": {
            "_dom_classes": [],
            "_model_module": "@jupyter-widgets/controls",
            "_model_module_version": "1.5.0",
            "_model_name": "HTMLModel",
            "_view_count": null,
            "_view_module": "@jupyter-widgets/controls",
            "_view_module_version": "1.5.0",
            "_view_name": "HTMLView",
            "description": "",
            "description_tooltip": null,
            "layout": "IPY_MODEL_0ba65f6037534acc8e3dfbf601088d63",
            "placeholder": "​",
            "style": "IPY_MODEL_43a6ed5baf4d4427843e320f7c6080e9",
            "value": " 44.7M/44.7M [00:01&lt;00:00, 37.0MB/s]"
          }
        },
        "4d78e2ddccc24978889f71d66f56f837": {
          "model_module": "@jupyter-widgets/base",
          "model_name": "LayoutModel",
          "model_module_version": "1.2.0",
          "state": {
            "_model_module": "@jupyter-widgets/base",
            "_model_module_version": "1.2.0",
            "_model_name": "LayoutModel",
            "_view_count": null,
            "_view_module": "@jupyter-widgets/base",
            "_view_module_version": "1.2.0",
            "_view_name": "LayoutView",
            "align_content": null,
            "align_items": null,
            "align_self": null,
            "border": null,
            "bottom": null,
            "display": null,
            "flex": null,
            "flex_flow": null,
            "grid_area": null,
            "grid_auto_columns": null,
            "grid_auto_flow": null,
            "grid_auto_rows": null,
            "grid_column": null,
            "grid_gap": null,
            "grid_row": null,
            "grid_template_areas": null,
            "grid_template_columns": null,
            "grid_template_rows": null,
            "height": null,
            "justify_content": null,
            "justify_items": null,
            "left": null,
            "margin": null,
            "max_height": null,
            "max_width": null,
            "min_height": null,
            "min_width": null,
            "object_fit": null,
            "object_position": null,
            "order": null,
            "overflow": null,
            "overflow_x": null,
            "overflow_y": null,
            "padding": null,
            "right": null,
            "top": null,
            "visibility": null,
            "width": null
          }
        },
        "940453e309bd41119c9169b63e6a82c4": {
          "model_module": "@jupyter-widgets/base",
          "model_name": "LayoutModel",
          "model_module_version": "1.2.0",
          "state": {
            "_model_module": "@jupyter-widgets/base",
            "_model_module_version": "1.2.0",
            "_model_name": "LayoutModel",
            "_view_count": null,
            "_view_module": "@jupyter-widgets/base",
            "_view_module_version": "1.2.0",
            "_view_name": "LayoutView",
            "align_content": null,
            "align_items": null,
            "align_self": null,
            "border": null,
            "bottom": null,
            "display": null,
            "flex": null,
            "flex_flow": null,
            "grid_area": null,
            "grid_auto_columns": null,
            "grid_auto_flow": null,
            "grid_auto_rows": null,
            "grid_column": null,
            "grid_gap": null,
            "grid_row": null,
            "grid_template_areas": null,
            "grid_template_columns": null,
            "grid_template_rows": null,
            "height": null,
            "justify_content": null,
            "justify_items": null,
            "left": null,
            "margin": null,
            "max_height": null,
            "max_width": null,
            "min_height": null,
            "min_width": null,
            "object_fit": null,
            "object_position": null,
            "order": null,
            "overflow": null,
            "overflow_x": null,
            "overflow_y": null,
            "padding": null,
            "right": null,
            "top": null,
            "visibility": null,
            "width": null
          }
        },
        "0e60eed6d451484fb017c3e0219bb8e7": {
          "model_module": "@jupyter-widgets/controls",
          "model_name": "DescriptionStyleModel",
          "model_module_version": "1.5.0",
          "state": {
            "_model_module": "@jupyter-widgets/controls",
            "_model_module_version": "1.5.0",
            "_model_name": "DescriptionStyleModel",
            "_view_count": null,
            "_view_module": "@jupyter-widgets/base",
            "_view_module_version": "1.2.0",
            "_view_name": "StyleView",
            "description_width": ""
          }
        },
        "c18f154b39824a5b8a9d508957854fe8": {
          "model_module": "@jupyter-widgets/base",
          "model_name": "LayoutModel",
          "model_module_version": "1.2.0",
          "state": {
            "_model_module": "@jupyter-widgets/base",
            "_model_module_version": "1.2.0",
            "_model_name": "LayoutModel",
            "_view_count": null,
            "_view_module": "@jupyter-widgets/base",
            "_view_module_version": "1.2.0",
            "_view_name": "LayoutView",
            "align_content": null,
            "align_items": null,
            "align_self": null,
            "border": null,
            "bottom": null,
            "display": null,
            "flex": null,
            "flex_flow": null,
            "grid_area": null,
            "grid_auto_columns": null,
            "grid_auto_flow": null,
            "grid_auto_rows": null,
            "grid_column": null,
            "grid_gap": null,
            "grid_row": null,
            "grid_template_areas": null,
            "grid_template_columns": null,
            "grid_template_rows": null,
            "height": null,
            "justify_content": null,
            "justify_items": null,
            "left": null,
            "margin": null,
            "max_height": null,
            "max_width": null,
            "min_height": null,
            "min_width": null,
            "object_fit": null,
            "object_position": null,
            "order": null,
            "overflow": null,
            "overflow_x": null,
            "overflow_y": null,
            "padding": null,
            "right": null,
            "top": null,
            "visibility": null,
            "width": null
          }
        },
        "85c8f82748be49ec8d0fce77bf81797d": {
          "model_module": "@jupyter-widgets/controls",
          "model_name": "ProgressStyleModel",
          "model_module_version": "1.5.0",
          "state": {
            "_model_module": "@jupyter-widgets/controls",
            "_model_module_version": "1.5.0",
            "_model_name": "ProgressStyleModel",
            "_view_count": null,
            "_view_module": "@jupyter-widgets/base",
            "_view_module_version": "1.2.0",
            "_view_name": "StyleView",
            "bar_color": null,
            "description_width": ""
          }
        },
        "0ba65f6037534acc8e3dfbf601088d63": {
          "model_module": "@jupyter-widgets/base",
          "model_name": "LayoutModel",
          "model_module_version": "1.2.0",
          "state": {
            "_model_module": "@jupyter-widgets/base",
            "_model_module_version": "1.2.0",
            "_model_name": "LayoutModel",
            "_view_count": null,
            "_view_module": "@jupyter-widgets/base",
            "_view_module_version": "1.2.0",
            "_view_name": "LayoutView",
            "align_content": null,
            "align_items": null,
            "align_self": null,
            "border": null,
            "bottom": null,
            "display": null,
            "flex": null,
            "flex_flow": null,
            "grid_area": null,
            "grid_auto_columns": null,
            "grid_auto_flow": null,
            "grid_auto_rows": null,
            "grid_column": null,
            "grid_gap": null,
            "grid_row": null,
            "grid_template_areas": null,
            "grid_template_columns": null,
            "grid_template_rows": null,
            "height": null,
            "justify_content": null,
            "justify_items": null,
            "left": null,
            "margin": null,
            "max_height": null,
            "max_width": null,
            "min_height": null,
            "min_width": null,
            "object_fit": null,
            "object_position": null,
            "order": null,
            "overflow": null,
            "overflow_x": null,
            "overflow_y": null,
            "padding": null,
            "right": null,
            "top": null,
            "visibility": null,
            "width": null
          }
        },
        "43a6ed5baf4d4427843e320f7c6080e9": {
          "model_module": "@jupyter-widgets/controls",
          "model_name": "DescriptionStyleModel",
          "model_module_version": "1.5.0",
          "state": {
            "_model_module": "@jupyter-widgets/controls",
            "_model_module_version": "1.5.0",
            "_model_name": "DescriptionStyleModel",
            "_view_count": null,
            "_view_module": "@jupyter-widgets/base",
            "_view_module_version": "1.2.0",
            "_view_name": "StyleView",
            "description_width": ""
          }
        }
      }
    }
  },
  "nbformat": 4,
  "nbformat_minor": 0
}